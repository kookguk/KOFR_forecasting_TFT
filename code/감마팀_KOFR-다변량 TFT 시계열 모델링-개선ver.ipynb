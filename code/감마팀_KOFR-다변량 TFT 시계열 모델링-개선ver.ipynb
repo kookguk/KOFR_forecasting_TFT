{
 "cells": [
  {
   "cell_type": "code",
   "execution_count": 15,
   "id": "c80faace-0294-45c8-a4d3-12637bbef835",
   "metadata": {},
   "outputs": [
    {
     "name": "stdout",
     "output_type": "stream",
     "text": [
      "최종 사용 변수: ['Date', 'KOFR', '콜금리(1일)', 'CD(91일)', 'KORIBOR(3개월)', '기준금리', 'EFFR', 'KORIBOR(6개월)', 'KORIBOR(12개월)', '경제활동참가율', '국고채(3년)', 'Core CPI', 'Tone_score']\n"
     ]
    }
   ],
   "source": [
    "import pandas as pd\n",
    "import matplotlib.pyplot as plt\n",
    "\n",
    "from darts import TimeSeries\n",
    "from darts.models import TFTModel\n",
    "from darts.dataprocessing.transformers import Scaler\n",
    "from darts.metrics import rmse, mae, r2_score\n",
    "from darts.utils.likelihood_models import QuantileRegression\n",
    "from pytorch_lightning.callbacks.early_stopping import EarlyStopping\n",
    "\n",
    "# ============================\n",
    "# 1. 데이터 불러오기\n",
    "df = pd.read_csv(\"total_data.csv\")\n",
    "df[\"Date\"] = pd.to_datetime(df[\"Date\"], format=\"%Y.%m.%d\")\n",
    "df = df.sort_values(\"Date\").reset_index(drop=True)\n",
    "\n",
    "# ============================\n",
    "# 2. Business day 기준 리샘플링 \n",
    "df = df.set_index(\"Date\").asfreq(\"B\")\n",
    "df = df.ffill().bfill().reset_index()\n",
    "\n",
    "# ============================\n",
    "# 3. 상관분석 기반 변수 선택 + Tone_score 고정\n",
    "corr = df.corr(numeric_only=True)[\"KOFR\"].abs().sort_values(ascending=False)\n",
    "top_vars = corr.index[1:11].tolist()\n",
    "if \"Tone_score\" not in top_vars:\n",
    "    top_vars.append(\"Tone_score\")\n",
    "\n",
    "df = df[[\"Date\", \"KOFR\"] + top_vars]\n",
    "print(\"최종 사용 변수:\", df.columns.tolist())\n",
    "\n",
    "# ============================\n",
    "# 4. float32 변환\n",
    "for col in df.select_dtypes(include=[\"float64\"]).columns:\n",
    "    df[col] = df[col].astype(\"float32\")\n",
    "\n",
    "# ============================\n",
    "# 5. TimeSeries 변환\n",
    "series = TimeSeries.from_dataframe(df, time_col=\"Date\", value_cols=\"KOFR\")\n",
    "covariates = TimeSeries.from_dataframe(\n",
    "    df,\n",
    "    time_col=\"Date\",\n",
    "    value_cols=[c for c in df.columns if c not in [\"Date\", \"KOFR\"]]\n",
    ")\n",
    "\n",
    "# ============================\n",
    "# 6. MinMax Scaling\n",
    "scaler_y = Scaler()\n",
    "scaler_x = Scaler()\n",
    "\n",
    "series_scaled = scaler_y.fit_transform(series)\n",
    "covariates_scaled = scaler_x.fit_transform(covariates)\n",
    "\n",
    "train_series = series_scaled.slice(pd.Timestamp(\"2018-01-02\"), pd.Timestamp(\"2024-12-31\"))\n",
    "test_series = series_scaled.slice(pd.Timestamp(\"2025-01-01\"), pd.Timestamp(\"2025-07-31\"))\n",
    "\n",
    "train_cov = covariates_scaled.slice(pd.Timestamp(\"2018-01-02\"), pd.Timestamp(\"2024-12-31\"))\n",
    "test_cov = covariates_scaled.slice(pd.Timestamp(\"2025-01-01\"), pd.Timestamp(\"2025-07-31\"))"
   ]
  },
  {
   "cell_type": "code",
   "execution_count": 16,
   "id": "46fe9b19-9fc0-473c-b4e3-ddc0204462d2",
   "metadata": {},
   "outputs": [],
   "source": [
    "# 7. TFT 모델 정의 (개선 세팅 적용)\n",
    "early_stopper = EarlyStopping(monitor=\"val_loss\", patience=10, min_delta=1e-4)\n",
    "\n",
    "model = TFTModel(\n",
    "    input_chunk_length=120,   # 입력 구간 확대\n",
    "    output_chunk_length=7,    # horizon 줄임 (7일)\n",
    "    hidden_size=64,           # 모델 복잡도 증가\n",
    "    lstm_layers=2,\n",
    "    dropout=0.2,\n",
    "    batch_size=64,\n",
    "    n_epochs=200,             # 학습 epoch 증가\n",
    "    add_relative_index=True,\n",
    "    likelihood=QuantileRegression(),\n",
    "    random_state=42,\n",
    "    pl_trainer_kwargs={\n",
    "        \"accelerator\": \"cpu\",\n",
    "        \"precision\": \"32-true\",\n",
    "        \"callbacks\": [early_stopper]\n",
    "    }\n",
    ")"
   ]
  },
  {
   "cell_type": "code",
   "execution_count": 17,
   "id": "498f0bfb-955a-434f-beab-55a8cb4d82bb",
   "metadata": {},
   "outputs": [
    {
     "name": "stderr",
     "output_type": "stream",
     "text": [
      "GPU available: True (mps), used: False\n",
      "TPU available: False, using: 0 TPU cores\n",
      "IPU available: False, using: 0 IPUs\n",
      "HPU available: False, using: 0 HPUs\n",
      "/Users/kook/myenv/lib/python3.12/site-packages/pytorch_lightning/trainer/setup.py:187: GPU available but not used. You can set it by doing `Trainer(accelerator='gpu')`.\n",
      "\n",
      "   | Name                              | Type                             | Params\n",
      "----------------------------------------------------------------------------------------\n",
      "0  | train_metrics                     | MetricCollection                 | 0     \n",
      "1  | val_metrics                       | MetricCollection                 | 0     \n",
      "2  | input_embeddings                  | _MultiEmbedding                  | 0     \n",
      "3  | static_covariates_vsn             | _VariableSelectionNetwork        | 0     \n",
      "4  | encoder_vsn                       | _VariableSelectionNetwork        | 24.0 K\n",
      "5  | decoder_vsn                       | _VariableSelectionNetwork        | 1.6 K \n",
      "6  | static_context_grn                | _GatedResidualNetwork            | 16.8 K\n",
      "7  | static_context_hidden_encoder_grn | _GatedResidualNetwork            | 16.8 K\n",
      "8  | static_context_cell_encoder_grn   | _GatedResidualNetwork            | 16.8 K\n",
      "9  | static_context_enrichment         | _GatedResidualNetwork            | 16.8 K\n",
      "10 | lstm_encoder                      | LSTM                             | 66.6 K\n",
      "11 | lstm_decoder                      | LSTM                             | 66.6 K\n",
      "12 | post_lstm_gan                     | _GateAddNorm                     | 8.4 K \n",
      "13 | static_enrichment_grn             | _GatedResidualNetwork            | 20.9 K\n",
      "14 | multihead_attn                    | _InterpretableMultiHeadAttention | 10.4 K\n",
      "15 | post_attn_gan                     | _GateAddNorm                     | 8.4 K \n",
      "16 | feed_forward_block                | _GatedResidualNetwork            | 16.8 K\n",
      "17 | pre_output_gan                    | _GateAddNorm                     | 8.4 K \n",
      "18 | output_layer                      | Linear                           | 1.1 K \n",
      "----------------------------------------------------------------------------------------\n",
      "300 K     Trainable params\n",
      "0         Non-trainable params\n",
      "300 K     Total params\n",
      "1.201     Total estimated model params size (MB)\n"
     ]
    },
    {
     "data": {
      "application/vnd.jupyter.widget-view+json": {
       "model_id": "",
       "version_major": 2,
       "version_minor": 0
      },
      "text/plain": [
       "Sanity Checking: |                                        | 0/? [00:00<?, ?it/s]"
      ]
     },
     "metadata": {},
     "output_type": "display_data"
    },
    {
     "data": {
      "application/vnd.jupyter.widget-view+json": {
       "model_id": "3006b5367722475a8a07626e4ef32bdc",
       "version_major": 2,
       "version_minor": 0
      },
      "text/plain": [
       "Training: |                                               | 0/? [00:00<?, ?it/s]"
      ]
     },
     "metadata": {},
     "output_type": "display_data"
    },
    {
     "data": {
      "application/vnd.jupyter.widget-view+json": {
       "model_id": "",
       "version_major": 2,
       "version_minor": 0
      },
      "text/plain": [
       "Validation: |                                             | 0/? [00:00<?, ?it/s]"
      ]
     },
     "metadata": {},
     "output_type": "display_data"
    },
    {
     "data": {
      "application/vnd.jupyter.widget-view+json": {
       "model_id": "",
       "version_major": 2,
       "version_minor": 0
      },
      "text/plain": [
       "Validation: |                                             | 0/? [00:00<?, ?it/s]"
      ]
     },
     "metadata": {},
     "output_type": "display_data"
    },
    {
     "data": {
      "application/vnd.jupyter.widget-view+json": {
       "model_id": "",
       "version_major": 2,
       "version_minor": 0
      },
      "text/plain": [
       "Validation: |                                             | 0/? [00:00<?, ?it/s]"
      ]
     },
     "metadata": {},
     "output_type": "display_data"
    },
    {
     "data": {
      "application/vnd.jupyter.widget-view+json": {
       "model_id": "",
       "version_major": 2,
       "version_minor": 0
      },
      "text/plain": [
       "Validation: |                                             | 0/? [00:00<?, ?it/s]"
      ]
     },
     "metadata": {},
     "output_type": "display_data"
    },
    {
     "data": {
      "application/vnd.jupyter.widget-view+json": {
       "model_id": "",
       "version_major": 2,
       "version_minor": 0
      },
      "text/plain": [
       "Validation: |                                             | 0/? [00:00<?, ?it/s]"
      ]
     },
     "metadata": {},
     "output_type": "display_data"
    },
    {
     "data": {
      "application/vnd.jupyter.widget-view+json": {
       "model_id": "",
       "version_major": 2,
       "version_minor": 0
      },
      "text/plain": [
       "Validation: |                                             | 0/? [00:00<?, ?it/s]"
      ]
     },
     "metadata": {},
     "output_type": "display_data"
    },
    {
     "data": {
      "application/vnd.jupyter.widget-view+json": {
       "model_id": "",
       "version_major": 2,
       "version_minor": 0
      },
      "text/plain": [
       "Validation: |                                             | 0/? [00:00<?, ?it/s]"
      ]
     },
     "metadata": {},
     "output_type": "display_data"
    },
    {
     "data": {
      "application/vnd.jupyter.widget-view+json": {
       "model_id": "",
       "version_major": 2,
       "version_minor": 0
      },
      "text/plain": [
       "Validation: |                                             | 0/? [00:00<?, ?it/s]"
      ]
     },
     "metadata": {},
     "output_type": "display_data"
    },
    {
     "data": {
      "application/vnd.jupyter.widget-view+json": {
       "model_id": "",
       "version_major": 2,
       "version_minor": 0
      },
      "text/plain": [
       "Validation: |                                             | 0/? [00:00<?, ?it/s]"
      ]
     },
     "metadata": {},
     "output_type": "display_data"
    },
    {
     "data": {
      "application/vnd.jupyter.widget-view+json": {
       "model_id": "",
       "version_major": 2,
       "version_minor": 0
      },
      "text/plain": [
       "Validation: |                                             | 0/? [00:00<?, ?it/s]"
      ]
     },
     "metadata": {},
     "output_type": "display_data"
    },
    {
     "data": {
      "application/vnd.jupyter.widget-view+json": {
       "model_id": "",
       "version_major": 2,
       "version_minor": 0
      },
      "text/plain": [
       "Validation: |                                             | 0/? [00:00<?, ?it/s]"
      ]
     },
     "metadata": {},
     "output_type": "display_data"
    },
    {
     "data": {
      "text/plain": [
       "TFTModel(output_chunk_shift=0, hidden_size=64, lstm_layers=2, num_attention_heads=4, full_attention=False, feed_forward=GatedResidualNetwork, dropout=0.2, hidden_continuous_size=8, categorical_embedding_sizes=None, add_relative_index=True, loss_fn=None, likelihood=QuantileRegression(quantiles=[0.01, 0.05, 0.1, 0.15, 0.2, 0.25, 0.3, 0.4, 0.5, 0.6, 0.7, 0.75, 0.8, 0.85, 0.9, 0.95, 0.99], prior_strength=1.0), norm_type=LayerNorm, use_static_covariates=True, input_chunk_length=120, output_chunk_length=7, batch_size=64, n_epochs=200, random_state=42, pl_trainer_kwargs={'accelerator': 'cpu', 'precision': '32-true', 'callbacks': [<pytorch_lightning.callbacks.early_stopping.EarlyStopping object at 0x331ecddc0>]})"
      ]
     },
     "execution_count": 17,
     "metadata": {},
     "output_type": "execute_result"
    }
   ],
   "source": [
    "# 8. 모델 학습\n",
    "model.fit(\n",
    "    series=train_series,\n",
    "    past_covariates=train_cov,\n",
    "    val_series=test_series,\n",
    "    val_past_covariates=test_cov,\n",
    "    verbose=True\n",
    ")"
   ]
  },
  {
   "cell_type": "code",
   "execution_count": 18,
   "id": "05ba8781-f63f-4428-ac15-a279a971b283",
   "metadata": {},
   "outputs": [
    {
     "name": "stderr",
     "output_type": "stream",
     "text": [
      "GPU available: True (mps), used: False\n",
      "TPU available: False, using: 0 TPU cores\n",
      "IPU available: False, using: 0 IPUs\n",
      "HPU available: False, using: 0 HPUs\n"
     ]
    },
    {
     "data": {
      "application/vnd.jupyter.widget-view+json": {
       "model_id": "4bae0cdf78034eb6b0942af486693e17",
       "version_major": 2,
       "version_minor": 0
      },
      "text/plain": [
       "Predicting: |                                             | 0/? [00:00<?, ?it/s]"
      ]
     },
     "metadata": {},
     "output_type": "display_data"
    }
   ],
   "source": [
    "# 9. 롤링 기반 예측 (7일 horizon)\n",
    "pred_series = model.historical_forecasts(\n",
    "    series_scaled,\n",
    "    past_covariates=covariates_scaled,\n",
    "    start=pd.Timestamp(\"2025-01-01\"),\n",
    "    forecast_horizon=7,\n",
    "    stride=7,\n",
    "    retrain=False,\n",
    "    verbose=True\n",
    ")\n",
    "\n",
    "# 역스케일링\n",
    "forecast = scaler_y.inverse_transform(pred_series)\n",
    "test_series_inv = scaler_y.inverse_transform(test_series)"
   ]
  },
  {
   "cell_type": "code",
   "execution_count": null,
   "id": "7f8eb1b0-adef-4236-adf8-1cebd3c7ae5d",
   "metadata": {},
   "outputs": [],
   "source": [
    "# 10. 성능 평가\n",
    "print(\"RMSE:\", rmse(test_series_inv, forecast))\n",
    "print(\"MAE:\", mae(test_series_inv, forecast))\n",
    "print(\"R²:\", r2_score(test_series_inv, forecast))"
   ]
  },
  {
   "cell_type": "code",
   "execution_count": null,
   "id": "26597aee-56a6-4e58-b48a-67a4e6b0a185",
   "metadata": {},
   "outputs": [],
   "source": [
    "# 11. 시각화\n",
    "plt.figure(figsize=(10,5))\n",
    "test_series_inv.plot(label=\"Actual (2025)\")\n",
    "forecast.plot(label=\"Predicted (2025)\")\n",
    "plt.title(\"KOFR Forecasting with TFT\")\n",
    "plt.legend()\n",
    "plt.show()"
   ]
  }
 ],
 "metadata": {
  "kernelspec": {
   "display_name": "Python 3 (ipykernel)",
   "language": "python",
   "name": "python3"
  },
  "language_info": {
   "codemirror_mode": {
    "name": "ipython",
    "version": 3
   },
   "file_extension": ".py",
   "mimetype": "text/x-python",
   "name": "python",
   "nbconvert_exporter": "python",
   "pygments_lexer": "ipython3",
   "version": "3.12.7"
  }
 },
 "nbformat": 4,
 "nbformat_minor": 5
}
